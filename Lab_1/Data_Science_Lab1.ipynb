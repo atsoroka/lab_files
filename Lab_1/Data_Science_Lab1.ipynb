{
 "cells": [
  {
   "cell_type": "markdown",
   "metadata": {},
   "source": [
    "# CS 109A/AC 209A/STAT 121A Data Science: Lab 1 (Solutions)\n",
    "**Harvard University**<br>\n",
    "**Fall 2016**<br>\n",
    "**Instructors: W. Pan, P. Protopapas, K. Rader**<br>\n",
    "**Due Date: ** Tuesday, September 13th, 2016 at 11:59pm"
   ]
  },
  {
   "cell_type": "markdown",
   "metadata": {},
   "source": [
    "Download the `IPython` notebook as well as the data file from Vocareum and complete locally.\n",
    "\n",
    "To submit your assignment, in Vocareum, upload (using the 'Upload' button on your Jupyter Dashboard) your solution to Vocareum as a single notebook with following file name format:\n",
    "\n",
    "`last_first_CourseNumber_HW1.ipynb`\n",
    "\n",
    "where `CourseNumber` is the course in which you're enrolled (CS 109a, Stats 121a, AC 209a). Submit your assignment in Vocareum using the 'Submit' button.\n",
    "\n",
    "**Avoid running your notebook on Vocareum and avoid changing your file after submitting.**\n",
    "\n",
    "Problems on homework assignments are equally weighted. The Challenge Question is required for AC 209A students and optional for all others. Student who complete the Challenge Problem as optional extra credit will receive +0.5% towards your final grade for each correct solution. "
   ]
  },
  {
   "cell_type": "markdown",
   "metadata": {},
   "source": [
    "Import libraries"
   ]
  },
  {
   "cell_type": "code",
   "execution_count": 3,
   "metadata": {
    "collapsed": false
   },
   "outputs": [],
   "source": [
    "import numpy as np\n",
    "import pandas as pd\n",
    "import matplotlib\n",
    "import matplotlib.pyplot as plt\n",
    "%matplotlib inline\n",
    "\n",
    "#For solution ONLY\n",
    "import matplotlib.cm as cmx\n",
    "import matplotlib.colors as colors"
   ]
  },
  {
   "cell_type": "markdown",
   "metadata": {},
   "source": [
    "---"
   ]
  },
  {
   "cell_type": "markdown",
   "metadata": {},
   "source": [
    "## Problem 0: Basic Information\n",
    "\n",
    "Fill in your basic information. "
   ]
  },
  {
   "cell_type": "markdown",
   "metadata": {},
   "source": [
    "### Part (a): Your name"
   ]
  },
  {
   "cell_type": "markdown",
   "metadata": {},
   "source": [
    "[Last, First]"
   ]
  },
  {
   "cell_type": "markdown",
   "metadata": {},
   "source": [
    "### Part (b): Course Number"
   ]
  },
  {
   "cell_type": "markdown",
   "metadata": {},
   "source": [
    "[CS 109a or STATS 121a or AC 209a]"
   ]
  },
  {
   "cell_type": "markdown",
   "metadata": {},
   "source": [
    "---"
   ]
  },
  {
   "cell_type": "markdown",
   "metadata": {
    "collapsed": true
   },
   "source": [
    "## Problem 1: Basic Data Visualization, Manipulation and Analysis\n",
    "\n",
    "In this problem, we will be using some basic tools of data visualization and statistical analysis to help build our intuition for finding, describing and interpreting patterns in data. We will be working with the data contained in the file `dataset_HW1.txt`. The data in `dataset_HW1.txt` contains biometric readings for a number of diabetic patients. In this problem, we will try to detect disease subtypes within this set of patients using their biometric readings."
   ]
  },
  {
   "cell_type": "markdown",
   "metadata": {},
   "source": [
    "### Part (a): Understanding a Pandas Dataframe\n",
    "Load the data from `dataset_HW1.txt` into a pandas dataframe. Get a basic picture of the information contained in the dataframe by printing the head, the size of the dataframe, the range of values in numeric-valued columns. Store the max, min and range information as a pandas dataframe."
   ]
  },
  {
   "cell_type": "markdown",
   "metadata": {},
   "source": [
    "<b>Solution:</b>"
   ]
  },
  {
   "cell_type": "code",
   "execution_count": 4,
   "metadata": {
    "collapsed": false
   },
   "outputs": [
    {
     "name": "stdout",
     "output_type": "stream",
     "text": [
      "number of patients: 2300\n"
     ]
    },
    {
     "data": {
      "text/html": [
       "<div>\n",
       "<table border=\"1\" class=\"dataframe\">\n",
       "  <thead>\n",
       "    <tr style=\"text-align: right;\">\n",
       "      <th></th>\n",
       "      <th>patient_id</th>\n",
       "      <th>marker_1</th>\n",
       "      <th>marker_2</th>\n",
       "      <th>subtype</th>\n",
       "      <th>patient_age</th>\n",
       "      <th>patient_gender</th>\n",
       "    </tr>\n",
       "  </thead>\n",
       "  <tbody>\n",
       "    <tr>\n",
       "      <th>0</th>\n",
       "      <td>619681</td>\n",
       "      <td>21.640523</td>\n",
       "      <td>144.001572</td>\n",
       "      <td>0</td>\n",
       "      <td>3</td>\n",
       "      <td>female</td>\n",
       "    </tr>\n",
       "    <tr>\n",
       "      <th>1</th>\n",
       "      <td>619711</td>\n",
       "      <td>13.787380</td>\n",
       "      <td>162.408932</td>\n",
       "      <td>0</td>\n",
       "      <td>15</td>\n",
       "      <td>female</td>\n",
       "    </tr>\n",
       "    <tr>\n",
       "      <th>2</th>\n",
       "      <td>619595</td>\n",
       "      <td>22.675580</td>\n",
       "      <td>130.227221</td>\n",
       "      <td>0</td>\n",
       "      <td>6</td>\n",
       "      <td>female</td>\n",
       "    </tr>\n",
       "    <tr>\n",
       "      <th>3</th>\n",
       "      <td>619990</td>\n",
       "      <td>13.500884</td>\n",
       "      <td>138.486428</td>\n",
       "      <td>0</td>\n",
       "      <td>17</td>\n",
       "      <td>male</td>\n",
       "    </tr>\n",
       "    <tr>\n",
       "      <th>4</th>\n",
       "      <td>619157</td>\n",
       "      <td>2.967811</td>\n",
       "      <td>144.105985</td>\n",
       "      <td>0</td>\n",
       "      <td>6</td>\n",
       "      <td>female</td>\n",
       "    </tr>\n",
       "  </tbody>\n",
       "</table>\n",
       "</div>"
      ],
      "text/plain": [
       "   patient_id   marker_1    marker_2  subtype  patient_age patient_gender\n",
       "0      619681  21.640523  144.001572        0            3         female\n",
       "1      619711  13.787380  162.408932        0           15         female\n",
       "2      619595  22.675580  130.227221        0            6         female\n",
       "3      619990  13.500884  138.486428        0           17           male\n",
       "4      619157   2.967811  144.105985        0            6         female"
      ]
     },
     "execution_count": 4,
     "metadata": {},
     "output_type": "execute_result"
    }
   ],
   "source": [
    "### Since I'm visualizing a dataframe I want to put this code and it's output \n",
    "### in it's own cell.\n",
    "\n",
    "#read data into pandas df\n",
    "df = pd.read_csv('dataset_HW1.txt')\n",
    "\n",
    "#size of data frame\n",
    "print 'number of patients:', df.shape[0]\n",
    "\n",
    "#print first 5 rows of dataframe\n",
    "df.head(n=5)"
   ]
  },
  {
   "cell_type": "code",
   "execution_count": 5,
   "metadata": {
    "collapsed": false
   },
   "outputs": [
    {
     "data": {
      "text/html": [
       "<div>\n",
       "<table border=\"1\" class=\"dataframe\">\n",
       "  <thead>\n",
       "    <tr style=\"text-align: right;\">\n",
       "      <th></th>\n",
       "      <th>marker_1</th>\n",
       "      <th>marker_2</th>\n",
       "      <th>subtype</th>\n",
       "      <th>patient_age</th>\n",
       "    </tr>\n",
       "  </thead>\n",
       "  <tbody>\n",
       "    <tr>\n",
       "      <th>max</th>\n",
       "      <td>80.209748</td>\n",
       "      <td>364.221777</td>\n",
       "      <td>3</td>\n",
       "      <td>90</td>\n",
       "    </tr>\n",
       "    <tr>\n",
       "      <th>min</th>\n",
       "      <td>-22.591722</td>\n",
       "      <td>-56.388949</td>\n",
       "      <td>0</td>\n",
       "      <td>3</td>\n",
       "    </tr>\n",
       "    <tr>\n",
       "      <th>range</th>\n",
       "      <td>102.801470</td>\n",
       "      <td>420.610725</td>\n",
       "      <td>3</td>\n",
       "      <td>87</td>\n",
       "    </tr>\n",
       "  </tbody>\n",
       "</table>\n",
       "</div>"
      ],
      "text/plain": [
       "         marker_1    marker_2  subtype  patient_age\n",
       "max     80.209748  364.221777        3           90\n",
       "min    -22.591722  -56.388949        0            3\n",
       "range  102.801470  420.610725        3           87"
      ]
     },
     "execution_count": 5,
     "metadata": {},
     "output_type": "execute_result"
    }
   ],
   "source": [
    "### Since I'm visualizing another data frame with stats I want to put the \n",
    "### code as well as the output in its own cell\n",
    "\n",
    "#choose columns 1, 2, 3, 4 (ignoring columns 0 and 4)\n",
    "df_cols_1_to_4 = df[range(1, 5)] \n",
    "\n",
    "#get column names from important_column dataframe\n",
    "column_names = df_cols_1_to_4.columns.values \n",
    "\n",
    "#create pandas dataframe with column names given by column_names\n",
    "stats = pd.DataFrame(columns=column_names)\n",
    "\n",
    "#create a row called 'max' and store max values from the columns of important_columns\n",
    "stats.loc['max'] = df_cols_1_to_4.max()\n",
    "\n",
    "#create a row called 'min' and store min values from the columns of important_columns\n",
    "stats.loc['min'] = df_cols_1_to_4.min()\n",
    "\n",
    "#create a row called 'range' and store range of values from the columns of important_columns\n",
    "stats.loc['range'] = df_cols_1_to_4.max() - df_cols_1_to_4.min()\n",
    "stats.head(n=5)"
   ]
  },
  {
   "cell_type": "markdown",
   "metadata": {},
   "source": [
    "### Part (b): Descriptive Statistics\n",
    "Find the mean, median and standard deviation of the real-valued columns in the entire dataset. Now find the same set of descriptive statistics for each of the following subset of data:\n",
    "\n",
    "1. children (ages 3 - 17)\n",
    "2. adult males (ages 18 - 90)\n",
    "3. adult females (ages 18 - 90)\n",
    "\n",
    "Append these stats to the dataframe from part (a), containing the max, min and range. Explain what these stats say about the entire dataset as well as each of the above subsets.\n",
    "\n",
    "Give a summary of the demographics of the patients contained in the dataset, i.e. how many children, how many adults, how many adult females and how many adult males. Display these results as pie charts."
   ]
  },
  {
   "cell_type": "markdown",
   "metadata": {},
   "source": [
    "**Solution:**"
   ]
  },
  {
   "cell_type": "code",
   "execution_count": 6,
   "metadata": {
    "collapsed": false
   },
   "outputs": [
    {
     "data": {
      "text/html": [
       "<div>\n",
       "<table border=\"1\" class=\"dataframe\">\n",
       "  <thead>\n",
       "    <tr style=\"text-align: right;\">\n",
       "      <th></th>\n",
       "      <th>marker_1</th>\n",
       "      <th>marker_2</th>\n",
       "      <th>subtype</th>\n",
       "      <th>patient_age</th>\n",
       "    </tr>\n",
       "  </thead>\n",
       "  <tbody>\n",
       "    <tr>\n",
       "      <th>max</th>\n",
       "      <td>80.209748</td>\n",
       "      <td>364.221777</td>\n",
       "      <td>3</td>\n",
       "      <td>90.000000</td>\n",
       "    </tr>\n",
       "    <tr>\n",
       "      <th>min</th>\n",
       "      <td>-22.591722</td>\n",
       "      <td>-56.388949</td>\n",
       "      <td>0</td>\n",
       "      <td>3.000000</td>\n",
       "    </tr>\n",
       "    <tr>\n",
       "      <th>range</th>\n",
       "      <td>102.801470</td>\n",
       "      <td>420.610725</td>\n",
       "      <td>3</td>\n",
       "      <td>87.000000</td>\n",
       "    </tr>\n",
       "    <tr>\n",
       "      <th>mean</th>\n",
       "      <td>31.970053</td>\n",
       "      <td>105.974247</td>\n",
       "      <td>NaN</td>\n",
       "      <td>38.868261</td>\n",
       "    </tr>\n",
       "    <tr>\n",
       "      <th>median</th>\n",
       "      <td>33.743705</td>\n",
       "      <td>105.179291</td>\n",
       "      <td>NaN</td>\n",
       "      <td>35.000000</td>\n",
       "    </tr>\n",
       "    <tr>\n",
       "      <th>std</th>\n",
       "      <td>18.096490</td>\n",
       "      <td>52.306201</td>\n",
       "      <td>NaN</td>\n",
       "      <td>27.211950</td>\n",
       "    </tr>\n",
       "  </tbody>\n",
       "</table>\n",
       "</div>"
      ],
      "text/plain": [
       "          marker_1    marker_2  subtype  patient_age\n",
       "max      80.209748  364.221777        3    90.000000\n",
       "min     -22.591722  -56.388949        0     3.000000\n",
       "range   102.801470  420.610725        3    87.000000\n",
       "mean     31.970053  105.974247      NaN    38.868261\n",
       "median   33.743705  105.179291      NaN    35.000000\n",
       "std      18.096490   52.306201      NaN    27.211950"
      ]
     },
     "execution_count": 6,
     "metadata": {},
     "output_type": "execute_result"
    }
   ],
   "source": [
    "### Since I'm visualizing appending new stats to my dataframe with range, min and max\n",
    "### I want to put the code as well as the output in its own cell\n",
    "\n",
    "#choose columns 1, 2, 4 (ignoring columns 0, 3 and 4)\n",
    "df_cols_1_2_4 = df[[1, 2, 4]] \n",
    "\n",
    "stats.loc['mean'] = df_cols_1_2_4.mean()\n",
    "stats.loc['median'] = df_cols_1_2_4.median()\n",
    "stats.loc['std'] = df_cols_1_2_4.std()\n",
    "stats"
   ]
  },
  {
   "cell_type": "code",
   "execution_count": 7,
   "metadata": {
    "collapsed": false
   },
   "outputs": [
    {
     "data": {
      "text/html": [
       "<div>\n",
       "<table border=\"1\" class=\"dataframe\">\n",
       "  <thead>\n",
       "    <tr style=\"text-align: right;\">\n",
       "      <th></th>\n",
       "      <th>marker_1</th>\n",
       "      <th>marker_2</th>\n",
       "      <th>subtype</th>\n",
       "      <th>patient_age</th>\n",
       "    </tr>\n",
       "  </thead>\n",
       "  <tbody>\n",
       "    <tr>\n",
       "      <th>child_max</th>\n",
       "      <td>80.209748</td>\n",
       "      <td>171.429357</td>\n",
       "      <td>3</td>\n",
       "      <td>17.000000</td>\n",
       "    </tr>\n",
       "    <tr>\n",
       "      <th>child_min</th>\n",
       "      <td>-22.591722</td>\n",
       "      <td>70.538569</td>\n",
       "      <td>0</td>\n",
       "      <td>3.000000</td>\n",
       "    </tr>\n",
       "    <tr>\n",
       "      <th>child_range</th>\n",
       "      <td>102.801470</td>\n",
       "      <td>100.890788</td>\n",
       "      <td>3</td>\n",
       "      <td>14.000000</td>\n",
       "    </tr>\n",
       "    <tr>\n",
       "      <th>child_mean</th>\n",
       "      <td>26.267379</td>\n",
       "      <td>121.396907</td>\n",
       "      <td>NaN</td>\n",
       "      <td>10.106250</td>\n",
       "    </tr>\n",
       "    <tr>\n",
       "      <th>child_median</th>\n",
       "      <td>26.868357</td>\n",
       "      <td>121.799063</td>\n",
       "      <td>NaN</td>\n",
       "      <td>10.000000</td>\n",
       "    </tr>\n",
       "    <tr>\n",
       "      <th>child_std</th>\n",
       "      <td>24.972128</td>\n",
       "      <td>23.658433</td>\n",
       "      <td>NaN</td>\n",
       "      <td>4.307337</td>\n",
       "    </tr>\n",
       "  </tbody>\n",
       "</table>\n",
       "</div>"
      ],
      "text/plain": [
       "                marker_1    marker_2  subtype  patient_age\n",
       "child_max      80.209748  171.429357        3    17.000000\n",
       "child_min     -22.591722   70.538569        0     3.000000\n",
       "child_range   102.801470  100.890788        3    14.000000\n",
       "child_mean     26.267379  121.396907      NaN    10.106250\n",
       "child_median   26.868357  121.799063      NaN    10.000000\n",
       "child_std      24.972128   23.658433      NaN     4.307337"
      ]
     },
     "execution_count": 7,
     "metadata": {},
     "output_type": "execute_result"
    }
   ],
   "source": [
    "### New task new cell\n",
    "\n",
    "#Create three different datasets by filtering our entire set\n",
    "children_data = df[df['patient_age'] < 18]\n",
    "adult_women_data = df[(df['patient_age'] > 17) & (df['patient_gender'] == 'female')]\n",
    "adult_male_data = df[(df['patient_age'] > 17) & (df['patient_gender'] == 'male')]\n",
    "    \n",
    "#create dataframe with select column names (just like before)\n",
    "column_names = children_data[range(1, 5)].columns.values\n",
    "child_stats = pd.DataFrame(columns=column_names)\n",
    "\n",
    "#add a row for each stat (just like before)\n",
    "child_stats.loc['child_max'] = children_data[range(1, 5)].max()\n",
    "child_stats.loc['child_min'] = children_data[range(1, 5)].min()\n",
    "child_stats.loc['child_range'] = children_data[range(1, 5)].max() - children_data[range(1, 5)].min()\n",
    "\n",
    "child_stats.loc['child_mean'] = children_data[[1, 2, 4]].mean()\n",
    "child_stats.loc['child_median'] = children_data[[1, 2, 4]].median()\n",
    "child_stats.loc['child_std'] = children_data[[1, 2, 4]].std()\n",
    "\n",
    "child_stats"
   ]
  },
  {
   "cell_type": "code",
   "execution_count": 8,
   "metadata": {
    "collapsed": false
   },
   "outputs": [
    {
     "data": {
      "text/html": [
       "<div>\n",
       "<table border=\"1\" class=\"dataframe\">\n",
       "  <thead>\n",
       "    <tr style=\"text-align: right;\">\n",
       "      <th></th>\n",
       "      <th>marker_1</th>\n",
       "      <th>marker_2</th>\n",
       "      <th>subtype</th>\n",
       "      <th>patient_age</th>\n",
       "    </tr>\n",
       "  </thead>\n",
       "  <tbody>\n",
       "    <tr>\n",
       "      <th>adult_f_max</th>\n",
       "      <td>59.702106</td>\n",
       "      <td>190.047718</td>\n",
       "      <td>1</td>\n",
       "      <td>90.000000</td>\n",
       "    </tr>\n",
       "    <tr>\n",
       "      <th>adult_f_min</th>\n",
       "      <td>28.364561</td>\n",
       "      <td>-43.386768</td>\n",
       "      <td>0</td>\n",
       "      <td>18.000000</td>\n",
       "    </tr>\n",
       "    <tr>\n",
       "      <th>adult_f_range</th>\n",
       "      <td>31.337545</td>\n",
       "      <td>233.434486</td>\n",
       "      <td>1</td>\n",
       "      <td>72.000000</td>\n",
       "    </tr>\n",
       "    <tr>\n",
       "      <th>adult_f_mean</th>\n",
       "      <td>44.053269</td>\n",
       "      <td>74.006378</td>\n",
       "      <td>NaN</td>\n",
       "      <td>54.613750</td>\n",
       "    </tr>\n",
       "    <tr>\n",
       "      <th>adult_f_median</th>\n",
       "      <td>43.911490</td>\n",
       "      <td>73.086403</td>\n",
       "      <td>NaN</td>\n",
       "      <td>56.000000</td>\n",
       "    </tr>\n",
       "    <tr>\n",
       "      <th>adult_f_std</th>\n",
       "      <td>7.141580</td>\n",
       "      <td>53.320292</td>\n",
       "      <td>NaN</td>\n",
       "      <td>21.094034</td>\n",
       "    </tr>\n",
       "  </tbody>\n",
       "</table>\n",
       "</div>"
      ],
      "text/plain": [
       "                 marker_1    marker_2  subtype  patient_age\n",
       "adult_f_max     59.702106  190.047718        1    90.000000\n",
       "adult_f_min     28.364561  -43.386768        0    18.000000\n",
       "adult_f_range   31.337545  233.434486        1    72.000000\n",
       "adult_f_mean    44.053269   74.006378      NaN    54.613750\n",
       "adult_f_median  43.911490   73.086403      NaN    56.000000\n",
       "adult_f_std      7.141580   53.320292      NaN    21.094034"
      ]
     },
     "execution_count": 8,
     "metadata": {},
     "output_type": "execute_result"
    }
   ],
   "source": [
    "### New task new cell\n",
    "\n",
    "#create dataframe with select column names (just like before)\n",
    "column_names = adult_women_data[range(1, 5)].columns.values\n",
    "adult_women_stats = pd.DataFrame(columns=column_names)\n",
    "\n",
    "#add a row for each stat (just like before)\n",
    "adult_women_stats.loc['adult_f_max'] = adult_women_data[range(1, 5)].max()\n",
    "adult_women_stats.loc['adult_f_min'] = adult_women_data[range(1, 5)].min()\n",
    "adult_women_stats.loc['adult_f_range'] = adult_women_data[range(1, 5)].max() - adult_women_data[range(1, 5)].min()\n",
    "\n",
    "adult_women_stats.loc['adult_f_mean'] = adult_women_data[[1, 2, 4]].mean()\n",
    "adult_women_stats.loc['adult_f_median'] = adult_women_data[[1, 2, 4]].median()\n",
    "adult_women_stats.loc['adult_f_std'] = adult_women_data[[1, 2, 4]].std()\n",
    "adult_women_stats"
   ]
  },
  {
   "cell_type": "code",
   "execution_count": 9,
   "metadata": {
    "collapsed": false
   },
   "outputs": [
    {
     "data": {
      "text/html": [
       "<div>\n",
       "<table border=\"1\" class=\"dataframe\">\n",
       "  <thead>\n",
       "    <tr style=\"text-align: right;\">\n",
       "      <th></th>\n",
       "      <th>marker_1</th>\n",
       "      <th>marker_2</th>\n",
       "      <th>subtype</th>\n",
       "      <th>patient_age</th>\n",
       "    </tr>\n",
       "  </thead>\n",
       "  <tbody>\n",
       "    <tr>\n",
       "      <th>adult_m_max</th>\n",
       "      <td>40.458624</td>\n",
       "      <td>364.221777</td>\n",
       "      <td>2</td>\n",
       "      <td>90.000000</td>\n",
       "    </tr>\n",
       "    <tr>\n",
       "      <th>adult_m_min</th>\n",
       "      <td>1.860516</td>\n",
       "      <td>-56.388949</td>\n",
       "      <td>0</td>\n",
       "      <td>18.000000</td>\n",
       "    </tr>\n",
       "    <tr>\n",
       "      <th>adult_m_range</th>\n",
       "      <td>38.598108</td>\n",
       "      <td>420.610725</td>\n",
       "      <td>2</td>\n",
       "      <td>72.000000</td>\n",
       "    </tr>\n",
       "    <tr>\n",
       "      <th>adult_m_mean</th>\n",
       "      <td>24.678005</td>\n",
       "      <td>124.883059</td>\n",
       "      <td>NaN</td>\n",
       "      <td>53.744286</td>\n",
       "    </tr>\n",
       "    <tr>\n",
       "      <th>adult_m_median</th>\n",
       "      <td>26.168875</td>\n",
       "      <td>110.893774</td>\n",
       "      <td>NaN</td>\n",
       "      <td>54.000000</td>\n",
       "    </tr>\n",
       "    <tr>\n",
       "      <th>adult_m_std</th>\n",
       "      <td>6.956745</td>\n",
       "      <td>57.523807</td>\n",
       "      <td>NaN</td>\n",
       "      <td>21.295497</td>\n",
       "    </tr>\n",
       "  </tbody>\n",
       "</table>\n",
       "</div>"
      ],
      "text/plain": [
       "                 marker_1    marker_2  subtype  patient_age\n",
       "adult_m_max     40.458624  364.221777        2    90.000000\n",
       "adult_m_min      1.860516  -56.388949        0    18.000000\n",
       "adult_m_range   38.598108  420.610725        2    72.000000\n",
       "adult_m_mean    24.678005  124.883059      NaN    53.744286\n",
       "adult_m_median  26.168875  110.893774      NaN    54.000000\n",
       "adult_m_std      6.956745   57.523807      NaN    21.295497"
      ]
     },
     "execution_count": 9,
     "metadata": {},
     "output_type": "execute_result"
    }
   ],
   "source": [
    "### New task new cell\n",
    "\n",
    "#create dataframe with select column names (just like before)\n",
    "column_names = adult_male_data[range(1, 5)].columns.values\n",
    "adult_male_stats = pd.DataFrame(columns=column_names)\n",
    "\n",
    "#add a row for each stat (just like before)\n",
    "adult_male_stats.loc['adult_m_max'] = adult_male_data[range(1, 5)].max()\n",
    "adult_male_stats.loc['adult_m_min'] = adult_male_data[range(1, 5)].min()\n",
    "adult_male_stats.loc['adult_m_range'] = adult_male_data[range(1, 5)].max() - adult_male_data[range(1, 5)].min()\n",
    "\n",
    "adult_male_stats.loc['adult_m_mean'] = adult_male_data[[1, 2, 4]].mean()\n",
    "adult_male_stats.loc['adult_m_median'] = adult_male_data[[1, 2, 4]].median()\n",
    "adult_male_stats.loc['adult_m_std'] = adult_male_data[[1, 2, 4]].std()\n",
    "adult_male_stats"
   ]
  },
  {
   "cell_type": "code",
   "execution_count": 10,
   "metadata": {
    "collapsed": false
   },
   "outputs": [
    {
     "data": {
      "image/png": "[encoded data removed]",
      "text/plain": [
       "<matplotlib.figure.Figure at 0x10f7418d0>"
      ]
     },
     "metadata": {},
     "output_type": "display_data"
    }
   ],
   "source": [
    "#children vs adults pie chart\n",
    "children = children_data.shape[0] #number of kids\n",
    "adults = df.shape[0] - children #adults = total number - kids\n",
    "\n",
    "fig = plt.figure(figsize=(10, 10))\n",
    "\n",
    "ax1 = fig.add_subplot(221)\n",
    "ax1.pie([children, adults], \n",
    "        labels=['children: ' + str(children), 'adults: ' + str(adults)], \n",
    "        colors=['red', 'gold'],\n",
    "        autopct='%1.1f%%', shadow=True, startangle=90)\n",
    "\n",
    "#women vs men pie chart\n",
    "women = df[df['patient_gender'] == 'female'].shape[0] #number of women\n",
    "men = df.shape[0] - women #men = total number - women\n",
    "\n",
    "ax2 = fig.add_subplot(222)\n",
    "ax2.pie([women, men], \n",
    "        labels=['women: ' + str(women), 'men: ' + str(men)], \n",
    "        colors=['lightskyblue', 'yellowgreen'],\n",
    "        autopct='%1.1f%%', shadow=True, startangle=90)\n",
    "\n",
    "#adult women vs men pie chart\n",
    "adult_women = adult_women_data.shape[0]\n",
    "adult_men = adults - adult_women\n",
    "\n",
    "ax3 = fig.add_subplot(223)\n",
    "ax3.pie([adult_women, adult_men], \n",
    "        labels=['adult women: ' + str(adult_women), 'adult men: ' + str(adult_men)], \n",
    "        colors=['lightsteelblue', 'lightsalmon'],\n",
    "        autopct='%1.1f%%', shadow=True, startangle=90)\n",
    "\n",
    "plt.show()"
   ]
  },
  {
   "cell_type": "markdown",
   "metadata": {},
   "source": [
    "### Part (c): Data Visualization\n",
    "To understand how the biometric reading might help us determine diabetic subtypes, we begin with some visual analysis of the biometric data:\n",
    "\n",
    "1. plot histograms of marker 1 and marker 2 (play with different values for the bin number to find the most usefule visualization)\n",
    "2. plot both markers in a scatter plot, color each point according to disease subtype\n",
    "\n",
    "Do the above for each demographics within the data: children, adult men and adult women."
   ]
  },
  {
   "cell_type": "markdown",
   "metadata": {},
   "source": [
    "**Solution:**"
   ]
  },
  {
   "cell_type": "markdown",
   "metadata": {},
   "source": [
    "### Part (d): Putting it All Together\n",
    "\n",
    "Summarize and interpret the patterns in the **histograms** from Part (c), compare these patterns to each other. In particular, explain what these patterns indicate about the relationship between the biometric data (marker 1 and marker 2) and subtypes of diabetes amongst the patients.\n",
    "\n",
    "Summarize and interpret the patterns in the **scatter plots** from Part (c), compare these patterns to each other. In particular, explain what these patterns indicate about the relationship between the biometric readings (marker 1 and marker 2) and subtypes of diabetes amongst the patients.\n",
    "\n",
    "Do your analyses of the patterns in histograms and the scatter plots support or contradict each other? Is one of the two visualizations more useful than the other for anlyzing the relationship between biometric data and disease subtypes? If so which, and why?\n",
    "\n",
    "Compare the descriptive stats you computed in part (b) with the visualizations. Which aspects of the visualizations (histogram and scatter plots) does each statistic measure? \n",
    "\n",
    "Do the stats support, contradict or enhance your visual analysis of the biometric data? \n",
    "\n",
    "Finally, what can you conclude, based on your visual analysis and stats, about the relationship between biometric data and diabetic subtypes in this pool of patients?"
   ]
  },
  {
   "cell_type": "markdown",
   "metadata": {},
   "source": [
    "**Solution:**"
   ]
  },
  {
   "cell_type": "markdown",
   "metadata": {},
   "source": [
    "---"
   ]
  }
 ],
 "metadata": {
  "kernelspec": {
   "display_name": "Python 2",
   "language": "python",
   "name": "python2"
  },
  "language_info": {
   "codemirror_mode": {
    "name": "ipython",
    "version": 2
   },
   "file_extension": ".py",
   "mimetype": "text/x-python",
   "name": "python",
   "nbconvert_exporter": "python",
   "pygments_lexer": "ipython2",
   "version": "2.7.11"
  }
 },
 "nbformat": 4,
 "nbformat_minor": 0
}
